{
 "cells": [
  {
   "cell_type": "code",
   "execution_count": 2,
   "metadata": {},
   "outputs": [],
   "source": [
    "import pandas as pd\n",
    "import numpy as np\n",
    "from datetime import datetime"
   ]
  },
  {
   "cell_type": "code",
   "execution_count": 3,
   "metadata": {},
   "outputs": [],
   "source": [
    "pd.set_option(\"display.max_columns\", None)"
   ]
  },
  {
   "cell_type": "code",
   "execution_count": 4,
   "metadata": {},
   "outputs": [],
   "source": [
    "# registro = pd.read_excel(r'C:\\Users\\jober\\OneDrive\\Desktop\\BD_CO\\BD_Registro_2024_2025_acumulado.xlsx',sheet_name='BD_Acumulado-2024-2025')\n",
    "registro = pd.read_excel(r'C:\\Users\\jober\\Downloads\\BD_Registro_2024_2025_acumulado.xlsx',sheet_name='BD_Acumulado-2024-2025')\n",
    "# \"C:\\Users\\jober\\Downloads\\BD_Registro_2024_2025_acumulado.xlsx\""
   ]
  },
  {
   "cell_type": "code",
   "execution_count": 5,
   "metadata": {},
   "outputs": [
    {
     "data": {
      "text/plain": [
       "Index(['No. ', 'Programa / Aliado\\n(Si aplica)', 'Barrio donde vive',\n",
       "       'Tipo Documento', 'Número Documento', 'TIPO_REGISTRO', 'Nombres',\n",
       "       'Apellidos', 'Celular', 'Teléfono', 'Canal de Registro', 'Edad',\n",
       "       'Rango_Edad', 'Género', 'Nivel de Estudio', 'Título Homologado',\n",
       "       'Ciudad de Residencia', 'Email', 'Fecha Registro',\n",
       "       'Programa de Gobierno', 'Condiciones Especiales',\n",
       "       'Detalle Discapacidades', 'Situación Laboral', 'Agente Registra',\n",
       "       'Fecha Actualización', '% Hoja Vida', 'Prestador Anterior',\n",
       "       'Fecha Cambio Prestador', 'Vereda/Localidad/Centro Poblado',\n",
       "       'Pertenece A', 'SISE_OFFLINE', 'Mes', 'Año', 'Punto Atención'],\n",
       "      dtype='object')"
      ]
     },
     "execution_count": 5,
     "metadata": {},
     "output_type": "execute_result"
    }
   ],
   "source": [
    "registro.columns"
   ]
  },
  {
   "cell_type": "code",
   "execution_count": 6,
   "metadata": {},
   "outputs": [
    {
     "data": {
      "text/html": [
       "<div>\n",
       "<style scoped>\n",
       "    .dataframe tbody tr th:only-of-type {\n",
       "        vertical-align: middle;\n",
       "    }\n",
       "\n",
       "    .dataframe tbody tr th {\n",
       "        vertical-align: top;\n",
       "    }\n",
       "\n",
       "    .dataframe thead th {\n",
       "        text-align: right;\n",
       "    }\n",
       "</style>\n",
       "<table border=\"1\" class=\"dataframe\">\n",
       "  <thead>\n",
       "    <tr style=\"text-align: right;\">\n",
       "      <th></th>\n",
       "      <th>No.</th>\n",
       "      <th>Programa / Aliado\\n(Si aplica)</th>\n",
       "      <th>Barrio donde vive</th>\n",
       "      <th>Tipo Documento</th>\n",
       "      <th>Número Documento</th>\n",
       "      <th>TIPO_REGISTRO</th>\n",
       "      <th>Nombres</th>\n",
       "      <th>Apellidos</th>\n",
       "      <th>Celular</th>\n",
       "      <th>Teléfono</th>\n",
       "      <th>Canal de Registro</th>\n",
       "      <th>Edad</th>\n",
       "      <th>Rango_Edad</th>\n",
       "      <th>Género</th>\n",
       "      <th>Nivel de Estudio</th>\n",
       "      <th>Título Homologado</th>\n",
       "      <th>Ciudad de Residencia</th>\n",
       "      <th>Email</th>\n",
       "      <th>Fecha Registro</th>\n",
       "      <th>Programa de Gobierno</th>\n",
       "      <th>Condiciones Especiales</th>\n",
       "      <th>Detalle Discapacidades</th>\n",
       "      <th>Situación Laboral</th>\n",
       "      <th>Agente Registra</th>\n",
       "      <th>Fecha Actualización</th>\n",
       "      <th>% Hoja Vida</th>\n",
       "      <th>Prestador Anterior</th>\n",
       "      <th>Fecha Cambio Prestador</th>\n",
       "      <th>Vereda/Localidad/Centro Poblado</th>\n",
       "      <th>Pertenece A</th>\n",
       "      <th>SISE_OFFLINE</th>\n",
       "      <th>Mes</th>\n",
       "      <th>Año</th>\n",
       "      <th>Punto Atención</th>\n",
       "    </tr>\n",
       "  </thead>\n",
       "  <tbody>\n",
       "    <tr>\n",
       "      <th>0</th>\n",
       "      <td>1</td>\n",
       "      <td>NaN</td>\n",
       "      <td>NaN</td>\n",
       "      <td>Cédula de Ciudadanía</td>\n",
       "      <td>1043665968</td>\n",
       "      <td>Registro_nuevo</td>\n",
       "      <td>DAYANA CECILIA</td>\n",
       "      <td>PÉREZ SUÁREZ</td>\n",
       "      <td>-</td>\n",
       "      <td>3235338963</td>\n",
       "      <td>Autoregistro</td>\n",
       "      <td>21.0</td>\n",
       "      <td>18 - 28</td>\n",
       "      <td>F</td>\n",
       "      <td>Técnica Laboral</td>\n",
       "      <td>técnico profesional en seguridad y salud en el...</td>\n",
       "      <td>BARRANQUILLA</td>\n",
       "      <td>dayanaperez1003@gmail.com</td>\n",
       "      <td>01/01/2024 12:36:05 p. m.</td>\n",
       "      <td>NaN</td>\n",
       "      <td>NaN</td>\n",
       "      <td>NaN</td>\n",
       "      <td>NO REGISTRA</td>\n",
       "      <td>Autoregistro</td>\n",
       "      <td>01/01/2024 12:36:05 p. m.</td>\n",
       "      <td>INCOMPLETA</td>\n",
       "      <td>NaN</td>\n",
       "      <td>NaN</td>\n",
       "      <td>NaN</td>\n",
       "      <td>NaN</td>\n",
       "      <td>NaN</td>\n",
       "      <td>1</td>\n",
       "      <td>2024</td>\n",
       "      <td>Barrios San José</td>\n",
       "    </tr>\n",
       "    <tr>\n",
       "      <th>1</th>\n",
       "      <td>2</td>\n",
       "      <td>NaN</td>\n",
       "      <td>NaN</td>\n",
       "      <td>Cédula de Ciudadanía</td>\n",
       "      <td>1079991248</td>\n",
       "      <td>Registro_nuevo</td>\n",
       "      <td>ELBA ESTHER</td>\n",
       "      <td>FUENTES ACUÑA</td>\n",
       "      <td>-</td>\n",
       "      <td>3006398462</td>\n",
       "      <td>Autoregistro</td>\n",
       "      <td>31.0</td>\n",
       "      <td>29 - 39</td>\n",
       "      <td>F</td>\n",
       "      <td>Universitaria</td>\n",
       "      <td>TRABAJADORA SOCIAL</td>\n",
       "      <td>BARRANQUILLA</td>\n",
       "      <td>fuenteselba24@gmail.com</td>\n",
       "      <td>01/01/2024 01:19:31 p. m.</td>\n",
       "      <td>NaN</td>\n",
       "      <td>NaN</td>\n",
       "      <td>NaN</td>\n",
       "      <td>NO REGISTRA</td>\n",
       "      <td>Autoregistro</td>\n",
       "      <td>01/01/2024 01:19:31 p. m.</td>\n",
       "      <td>INCOMPLETA</td>\n",
       "      <td>NaN</td>\n",
       "      <td>NaN</td>\n",
       "      <td>NaN</td>\n",
       "      <td>NaN</td>\n",
       "      <td>NaN</td>\n",
       "      <td>1</td>\n",
       "      <td>2024</td>\n",
       "      <td>Barrios San José</td>\n",
       "    </tr>\n",
       "    <tr>\n",
       "      <th>2</th>\n",
       "      <td>3</td>\n",
       "      <td>NaN</td>\n",
       "      <td>NaN</td>\n",
       "      <td>Cédula de Ciudadanía</td>\n",
       "      <td>1043670020</td>\n",
       "      <td>Registro_nuevo</td>\n",
       "      <td>ADRIANYS LUCIA</td>\n",
       "      <td>FERNANDEZ JARABA</td>\n",
       "      <td>-</td>\n",
       "      <td>3107410880</td>\n",
       "      <td>Autoregistro</td>\n",
       "      <td>27.0</td>\n",
       "      <td>18 - 28</td>\n",
       "      <td>F</td>\n",
       "      <td>Universitaria</td>\n",
       "      <td>Psicóloga</td>\n",
       "      <td>BARRANQUILLA</td>\n",
       "      <td>anyelis.russo@gmail.com</td>\n",
       "      <td>02/01/2024 07:56:04 a. m.</td>\n",
       "      <td>NaN</td>\n",
       "      <td>NaN</td>\n",
       "      <td>NaN</td>\n",
       "      <td>Empleado</td>\n",
       "      <td>Autoregistro</td>\n",
       "      <td>02/01/2024 07:56:04 a. m.</td>\n",
       "      <td>COMPLETA</td>\n",
       "      <td>NaN</td>\n",
       "      <td>NaN</td>\n",
       "      <td>NaN</td>\n",
       "      <td>Urbano</td>\n",
       "      <td>NaN</td>\n",
       "      <td>1</td>\n",
       "      <td>2024</td>\n",
       "      <td>Barrios San José</td>\n",
       "    </tr>\n",
       "    <tr>\n",
       "      <th>3</th>\n",
       "      <td>4</td>\n",
       "      <td>NaN</td>\n",
       "      <td>NaN</td>\n",
       "      <td>Cédula de Ciudadanía</td>\n",
       "      <td>1003361352</td>\n",
       "      <td>Registro_nuevo</td>\n",
       "      <td>LUIS FERNANDO</td>\n",
       "      <td>PEREZ FRANCO</td>\n",
       "      <td>-</td>\n",
       "      <td>3024234712</td>\n",
       "      <td>Autoregistro</td>\n",
       "      <td>28.0</td>\n",
       "      <td>18 - 28</td>\n",
       "      <td>M</td>\n",
       "      <td>NaN</td>\n",
       "      <td>NaN</td>\n",
       "      <td>BARRANQUILLA</td>\n",
       "      <td>luisperezfranco.17@hotmail.com</td>\n",
       "      <td>02/01/2024 08:40:53 a. m.</td>\n",
       "      <td>NaN</td>\n",
       "      <td>NaN</td>\n",
       "      <td>NaN</td>\n",
       "      <td>NO REGISTRA</td>\n",
       "      <td>Autoregistro</td>\n",
       "      <td>02/01/2024 08:40:53 a. m.</td>\n",
       "      <td>INCOMPLETA</td>\n",
       "      <td>NaN</td>\n",
       "      <td>NaN</td>\n",
       "      <td>NaN</td>\n",
       "      <td>NaN</td>\n",
       "      <td>NaN</td>\n",
       "      <td>1</td>\n",
       "      <td>2024</td>\n",
       "      <td>Barrios San José</td>\n",
       "    </tr>\n",
       "    <tr>\n",
       "      <th>4</th>\n",
       "      <td>5</td>\n",
       "      <td>NaN</td>\n",
       "      <td>NaN</td>\n",
       "      <td>Cédula de Ciudadanía</td>\n",
       "      <td>45593583</td>\n",
       "      <td>Registro_nuevo</td>\n",
       "      <td>PAOLA MARGARITA</td>\n",
       "      <td>DE CASTRO PALACIO</td>\n",
       "      <td>-</td>\n",
       "      <td>3132255023</td>\n",
       "      <td>Autoregistro</td>\n",
       "      <td>46.0</td>\n",
       "      <td>40 - 49</td>\n",
       "      <td>F</td>\n",
       "      <td>Especialización</td>\n",
       "      <td>GERENCIA TRIBUTARIA</td>\n",
       "      <td>SOLEDAD</td>\n",
       "      <td>contadora78@hotmail.com</td>\n",
       "      <td>02/01/2024 09:30:22 a. m.</td>\n",
       "      <td>NaN</td>\n",
       "      <td>NaN</td>\n",
       "      <td>NaN</td>\n",
       "      <td>Desempleado</td>\n",
       "      <td>Autoregistro</td>\n",
       "      <td>02/01/2024 09:30:22 a. m.</td>\n",
       "      <td>COMPLETA</td>\n",
       "      <td>NaN</td>\n",
       "      <td>NaN</td>\n",
       "      <td>NaN</td>\n",
       "      <td>Urbano</td>\n",
       "      <td>NaN</td>\n",
       "      <td>1</td>\n",
       "      <td>2024</td>\n",
       "      <td>Barrios San José</td>\n",
       "    </tr>\n",
       "  </tbody>\n",
       "</table>\n",
       "</div>"
      ],
      "text/plain": [
       "   No.  Programa / Aliado\\n(Si aplica) Barrio donde vive  \\\n",
       "0     1                            NaN               NaN   \n",
       "1     2                            NaN               NaN   \n",
       "2     3                            NaN               NaN   \n",
       "3     4                            NaN               NaN   \n",
       "4     5                            NaN               NaN   \n",
       "\n",
       "         Tipo Documento Número Documento   TIPO_REGISTRO          Nombres  \\\n",
       "0  Cédula de Ciudadanía       1043665968  Registro_nuevo   DAYANA CECILIA   \n",
       "1  Cédula de Ciudadanía       1079991248  Registro_nuevo      ELBA ESTHER   \n",
       "2  Cédula de Ciudadanía       1043670020  Registro_nuevo   ADRIANYS LUCIA   \n",
       "3  Cédula de Ciudadanía       1003361352  Registro_nuevo    LUIS FERNANDO   \n",
       "4  Cédula de Ciudadanía         45593583  Registro_nuevo  PAOLA MARGARITA   \n",
       "\n",
       "           Apellidos Celular    Teléfono Canal de Registro  Edad Rango_Edad  \\\n",
       "0       PÉREZ SUÁREZ       -  3235338963      Autoregistro  21.0    18 - 28   \n",
       "1      FUENTES ACUÑA       -  3006398462      Autoregistro  31.0    29 - 39   \n",
       "2   FERNANDEZ JARABA       -  3107410880      Autoregistro  27.0    18 - 28   \n",
       "3       PEREZ FRANCO       -  3024234712      Autoregistro  28.0    18 - 28   \n",
       "4  DE CASTRO PALACIO       -  3132255023      Autoregistro  46.0    40 - 49   \n",
       "\n",
       "  Género Nivel de Estudio                                  Título Homologado  \\\n",
       "0      F  Técnica Laboral  técnico profesional en seguridad y salud en el...   \n",
       "1      F    Universitaria                                 TRABAJADORA SOCIAL   \n",
       "2      F    Universitaria                                          Psicóloga   \n",
       "3      M              NaN                                                NaN   \n",
       "4      F  Especialización                                GERENCIA TRIBUTARIA   \n",
       "\n",
       "  Ciudad de Residencia                           Email  \\\n",
       "0         BARRANQUILLA       dayanaperez1003@gmail.com   \n",
       "1         BARRANQUILLA         fuenteselba24@gmail.com   \n",
       "2         BARRANQUILLA         anyelis.russo@gmail.com   \n",
       "3         BARRANQUILLA  luisperezfranco.17@hotmail.com   \n",
       "4              SOLEDAD         contadora78@hotmail.com   \n",
       "\n",
       "              Fecha Registro Programa de Gobierno Condiciones Especiales  \\\n",
       "0  01/01/2024 12:36:05 p. m.                  NaN                    NaN   \n",
       "1  01/01/2024 01:19:31 p. m.                  NaN                    NaN   \n",
       "2  02/01/2024 07:56:04 a. m.                  NaN                    NaN   \n",
       "3  02/01/2024 08:40:53 a. m.                  NaN                    NaN   \n",
       "4  02/01/2024 09:30:22 a. m.                  NaN                    NaN   \n",
       "\n",
       "  Detalle Discapacidades Situación Laboral Agente Registra  \\\n",
       "0                    NaN       NO REGISTRA    Autoregistro   \n",
       "1                    NaN       NO REGISTRA    Autoregistro   \n",
       "2                    NaN          Empleado    Autoregistro   \n",
       "3                    NaN       NO REGISTRA    Autoregistro   \n",
       "4                    NaN       Desempleado    Autoregistro   \n",
       "\n",
       "         Fecha Actualización % Hoja Vida Prestador Anterior  \\\n",
       "0  01/01/2024 12:36:05 p. m.  INCOMPLETA                NaN   \n",
       "1  01/01/2024 01:19:31 p. m.  INCOMPLETA                NaN   \n",
       "2  02/01/2024 07:56:04 a. m.    COMPLETA                NaN   \n",
       "3  02/01/2024 08:40:53 a. m.  INCOMPLETA                NaN   \n",
       "4  02/01/2024 09:30:22 a. m.    COMPLETA                NaN   \n",
       "\n",
       "  Fecha Cambio Prestador Vereda/Localidad/Centro Poblado Pertenece A  \\\n",
       "0                    NaN                             NaN         NaN   \n",
       "1                    NaN                             NaN         NaN   \n",
       "2                    NaN                             NaN      Urbano   \n",
       "3                    NaN                             NaN         NaN   \n",
       "4                    NaN                             NaN      Urbano   \n",
       "\n",
       "  SISE_OFFLINE  Mes   Año    Punto Atención  \n",
       "0          NaN    1  2024  Barrios San José  \n",
       "1          NaN    1  2024  Barrios San José  \n",
       "2          NaN    1  2024  Barrios San José  \n",
       "3          NaN    1  2024  Barrios San José  \n",
       "4          NaN    1  2024  Barrios San José  "
      ]
     },
     "execution_count": 6,
     "metadata": {},
     "output_type": "execute_result"
    }
   ],
   "source": [
    "registro.head()"
   ]
  },
  {
   "cell_type": "code",
   "execution_count": 7,
   "metadata": {},
   "outputs": [],
   "source": [
    "# Typing column the names \n",
    "registro.columns = registro.columns.str.lower()\n",
    "registro.columns = registro.columns.str.replace(\" \",\"_\")"
   ]
  },
  {
   "cell_type": "code",
   "execution_count": 8,
   "metadata": {},
   "outputs": [],
   "source": [
    "# cleaning the columns\n",
    "registro['número_documento'] = registro['número_documento'].astype(str).str.strip()\n",
    "registro['teléfono'] = registro['teléfono'].astype(str).str.strip()\n",
    "registro['título_homologado'] = registro['título_homologado'].astype(str).str.strip()\n",
    "registro['ciudad_de_residencia'] = registro['ciudad_de_residencia'].astype(str).str.strip()\n",
    "registro['email'] = registro['email'].astype(str).str.strip()\n",
    "registro['programa_de_gobierno'] = registro['programa_de_gobierno'].astype(str).str.strip()\n",
    "registro['fecha_actualización'] = registro['fecha_actualización'].astype(str).str.strip()\n",
    "registro['%_hoja_vida'] = registro['%_hoja_vida'].astype(str).str.strip()\n",
    "registro['fecha_cambio_prestador'] = registro['fecha_cambio_prestador'].astype(str).str.strip()\n",
    "registro['vereda/localidad/centro_poblado'] = registro['vereda/localidad/centro_poblado'].astype(str).str.strip()\n",
    "registro['celular'] = registro['celular'].astype(str).str.strip()"
   ]
  },
  {
   "cell_type": "code",
   "execution_count": 9,
   "metadata": {},
   "outputs": [],
   "source": [
    "# Registros sin tipo de documento\n",
    "non_td = registro[registro['tipo_documento'].isnull()].index\n",
    "# Registro sin número de documento\n",
    "non_nd = registro[registro['número_documento'].isnull()].index"
   ]
  },
  {
   "cell_type": "code",
   "execution_count": 10,
   "metadata": {},
   "outputs": [],
   "source": [
    "# All the elements with out information\n",
    "to_revisit = pd.Series(list(set(non_td).union(set(non_nd))))\n",
    "wrong = registro[registro.index.isin(to_revisit)]\n",
    "\n",
    "# Those need to be sent into an excel document\n",
    "# current date\n",
    "date = datetime.now().strftime(\"%Y-%m-%d\")\n",
    "wrong.to_excel(f\"revisar-{date}.xlsx\", index=False)"
   ]
  },
  {
   "cell_type": "code",
   "execution_count": 11,
   "metadata": {},
   "outputs": [
    {
     "data": {
      "text/plain": [
       "(2160, 34)"
      ]
     },
     "execution_count": 11,
     "metadata": {},
     "output_type": "execute_result"
    }
   ],
   "source": [
    "# The valid results are:\n",
    "valid = registro[~registro.index.isin(to_revisit)]\n",
    "valid = valid[valid['año']==2025]\n",
    "valid.shape"
   ]
  },
  {
   "cell_type": "code",
   "execution_count": 12,
   "metadata": {},
   "outputs": [
    {
     "name": "stdout",
     "output_type": "stream",
     "text": [
      "<class 'pandas.core.frame.DataFrame'>\n",
      "Index: 2160 entries, 7824 to 10025\n",
      "Data columns (total 34 columns):\n",
      " #   Column                           Non-Null Count  Dtype  \n",
      "---  ------                           --------------  -----  \n",
      " 0   no._                             2160 non-null   int64  \n",
      " 1   programa_/_aliado\n",
      "(si_aplica)    630 non-null    object \n",
      " 2   barrio_donde_vive                638 non-null    object \n",
      " 3   tipo_documento                   2160 non-null   object \n",
      " 4   número_documento                 2160 non-null   object \n",
      " 5   tipo_registro                    2160 non-null   object \n",
      " 6   nombres                          2160 non-null   object \n",
      " 7   apellidos                        2160 non-null   object \n",
      " 8   celular                          2160 non-null   object \n",
      " 9   teléfono                         2160 non-null   object \n",
      " 10  canal_de_registro                2160 non-null   object \n",
      " 11  edad                             2153 non-null   float64\n",
      " 12  rango_edad                       2160 non-null   object \n",
      " 13  género                           2160 non-null   object \n",
      " 14  nivel_de_estudio                 1638 non-null   object \n",
      " 15  título_homologado                2160 non-null   object \n",
      " 16  ciudad_de_residencia             2160 non-null   object \n",
      " 17  email                            2160 non-null   object \n",
      " 18  fecha_registro                   2160 non-null   object \n",
      " 19  programa_de_gobierno             2160 non-null   object \n",
      " 20  condiciones_especiales           1171 non-null   object \n",
      " 21  detalle_discapacidades           91 non-null     object \n",
      " 22  situación_laboral                1930 non-null   object \n",
      " 23  agente_registra                  2139 non-null   object \n",
      " 24  fecha_actualización              2160 non-null   object \n",
      " 25  %_hoja_vida                      2160 non-null   object \n",
      " 26  prestador_anterior               1 non-null      object \n",
      " 27  fecha_cambio_prestador           2160 non-null   object \n",
      " 28  vereda/localidad/centro_poblado  2160 non-null   object \n",
      " 29  pertenece_a                      1 non-null      object \n",
      " 30  sise_offline                     0 non-null      object \n",
      " 31  mes                              2160 non-null   int64  \n",
      " 32  año                              2160 non-null   int64  \n",
      " 33  punto_atención                   2160 non-null   object \n",
      "dtypes: float64(1), int64(3), object(30)\n",
      "memory usage: 590.6+ KB\n"
     ]
    }
   ],
   "source": [
    "valid.info()"
   ]
  },
  {
   "cell_type": "code",
   "execution_count": 13,
   "metadata": {},
   "outputs": [],
   "source": [
    "# Cleaning NaN data. Data as 'nan' are not actual \"NaN\":\n",
    "for column in valid.columns:\n",
    "    valid[column] = valid[column].replace('nan', pd.NA)"
   ]
  },
  {
   "cell_type": "markdown",
   "metadata": {},
   "source": [
    "# FECHAS DE REGISTRO"
   ]
  },
  {
   "cell_type": "code",
   "execution_count": 14,
   "metadata": {},
   "outputs": [],
   "source": [
    "valid['fecha_registro'] = valid['fecha_registro'].fillna(\"\")\n",
    "valid['fecha_actualización'] = valid['fecha_actualización'].fillna(\"\")\n",
    "\n",
    "# Function to handle different date formats\n",
    "def parse_dates(date_str):\n",
    "    if pd.isna(date_str) or date_str == \"\":  # Handle empty strings or NaN\n",
    "        return pd.NaT\n",
    "    \n",
    "    date_str = str(date_str).strip()\n",
    "    \n",
    "    # Case 1: Excel serial number\n",
    "    if date_str.isdigit():\n",
    "        return pd.to_datetime(int(date_str), origin='1899-12-30', unit='D')\n",
    "\n",
    "    # Case 2: DD-MM-YYYY format\n",
    "    try:\n",
    "        return pd.to_datetime(date_str, format=\"%d-%m-%Y\")\n",
    "    except ValueError:\n",
    "        pass  # If it fails, try the next method\n",
    "    \n",
    "    # Case 3: Other datetime formats\n",
    "    return pd.to_datetime(date_str, errors='coerce', dayfirst=True)  \n",
    "\n",
    "# Convert date columns\n",
    "valid['fecha_registro'] = valid['fecha_registro'].apply(parse_dates)\n",
    "valid['fecha_actualización'] = valid['fecha_actualización'].apply(parse_dates)\n",
    "\n",
    "# Get the latest date\n",
    "valid['fecha_accion'] = valid[['fecha_registro', 'fecha_actualización']].max(axis=1)\n",
    "\n",
    "# Floor the date to remove time (ensures it's still a datetime object)\n",
    "valid['fecha_accion'] = valid['fecha_accion'].dt.floor('D')\n",
    "\n",
    "# Convert to string format for final output\n",
    "valid['fecha_registro'] = valid['fecha_registro'].dt.strftime('%Y-%m-%d')\n",
    "valid['fecha_actualización'] = valid['fecha_actualización'].dt.strftime('%Y-%m-%d')\n",
    "valid['fecha_accion'] = valid['fecha_accion'].dt.strftime('%Y-%m-%d')\n",
    "\n",
    "# valid.drop(['fecha_reg','fecha_act'],axis=1, inplace=True)"
   ]
  },
  {
   "cell_type": "markdown",
   "metadata": {},
   "source": [
    "# PREPARING FOR POPULATION ANALYSIS"
   ]
  },
  {
   "cell_type": "code",
   "execution_count": 15,
   "metadata": {},
   "outputs": [
    {
     "data": {
      "text/plain": [
       "array([nan, 'Ninguna de las anteriores, Ningún grupo étnico',\n",
       "       'Visual, Ningún grupo étnico', 'Ninguna de las anteriores',\n",
       "       'Ninguna de las anteriores, Ningún grupo étnico, Ninguna de las anteriores, Ningún grupo étnico',\n",
       "       'Auditiva, Ningún grupo étnico',\n",
       "       'Ninguna de las anteriores, Ninguna de las anteriores',\n",
       "       'Personas en procesos de reintegración, Visual, Palenquero de San Basilio de Palenque, Vendedores informales',\n",
       "       'Ningún grupo étnico, Psicosocial (mental)',\n",
       "       'Negro(a), mulato(a), afrodescendiente, afrocolombiano(a), Auditiva',\n",
       "       'Indígenas, Trastorno mental, Múltiple, Vendedores informales',\n",
       "       'Negro(a), mulato(a), afrodescendiente, afrocolombiano(a), Ninguna de las anteriores',\n",
       "       'Indígenas, Vendedores informales, Ninguna de las anteriores',\n",
       "       'Auditiva, Ningún grupo étnico, Auditiva, Ningún grupo étnico',\n",
       "       'Vendedores informales, Ninguna de las anteriores, Ningún grupo étnico',\n",
       "       'Visual, Vendedores informales, Ningún grupo étnico',\n",
       "       'Psicosocial (mental)', 'Auditiva',\n",
       "       'Negro(a), mulato(a), afrodescendiente, afrocolombiano(a), Personas en procesos de reintegración, Ninguna de las anteriores',\n",
       "       'Ningún grupo étnico',\n",
       "       'Ningún grupo étnico, Ninguna de las anteriores',\n",
       "       'Indígenas, Estuvo bajo medida de protección del Instituto Colombiano de Bienestar Familiar, Ninguna de las anteriores',\n",
       "       'Vendedores informales, Ningún grupo étnico',\n",
       "       'Estuvo bajo medida de protección del Instituto Colombiano de Bienestar Familiar, Ninguna de las anteriores, Ningún grupo étnico',\n",
       "       'Física  ', 'Indígenas, Ninguna de las anteriores',\n",
       "       'Ninguna de las anteriores, Vendedores informales, Ningún grupo étnico',\n",
       "       'Palenquero de San Basilio de Palenque, Ninguna de las anteriores',\n",
       "       'Cognitiva o Intelectual, Ningún grupo étnico',\n",
       "       'Física  , Ningún grupo étnico',\n",
       "       'Retornado, Ninguna de las anteriores, Ningún grupo étnico',\n",
       "       'Raizal del Archipiélago de San Andrés, Providencia y Santa Catalina, Ninguna de las anteriores',\n",
       "       'Gitano(a) o Rrom, Ninguna de las anteriores',\n",
       "       'Personas en procesos de reintegración, Ninguna de las anteriores, Ningún grupo étnico',\n",
       "       'VISUAL', 'FÍSICA', 'AUDITIVA', 'Física',\n",
       "       'NARP (Negro, Afrocolombiano, Raizal o Palenquero)', 'MÚLTIPLE',\n",
       "       'Retornado o migrante', 'MULTIPLE', 'Psicosocial', 'Múltiple',\n",
       "       'PSICOSOCIAL', 'MCH', 'Visual', 'Sordoceguera', 'Cognitivo',\n",
       "       'MCH ',\n",
       "       'Negro(a), mulato(a), afrodescendiente, afrocolombiano(a), Ninguna de las anteriores, Negro(a), mulato(a), afrodescendiente, afrocolombiano(a), Ninguna de las anteriores',\n",
       "       'Auditiva, Auditiva',\n",
       "       'Negro(a), mulato(a), afrodescendiente, afrocolombiano(a), Afrocolombianos, Ninguna de las anteriores, Negro(a), mulato(a), afrodescendiente, afrocolombiano(a), Afrocolombianos, Ninguna de las anteriores, Afrocolombianos',\n",
       "       'Indígenas',\n",
       "       'Ninguna de las anteriores, Negro(a), mulato(a), afrodescendiente, afrocolombiano(a)',\n",
       "       'Negro(a), mulato(a), afrodescendiente, afrocolombiano(a), Vendedores informales, Ninguna de las anteriores',\n",
       "       'Ningún grupo étnico, Ninguna de las anteriores, Vendedores informales',\n",
       "       'Auditiva, Raizal del Archipiélago de San Andrés, Providencia y Santa Catalina',\n",
       "       'Palenquero de San Basilio de Palenque',\n",
       "       'Indígenas, Retornado o migrante', 'Física, Retornado o migrante',\n",
       "       'Personas en procesos de reintegración, Ningún grupo étnico, Ninguna de las anteriores',\n",
       "       'Cognitiva o Intelectual',\n",
       "       'Física  , Vendedores informales, Ningún grupo étnico',\n",
       "       'Indígenas, Visual',\n",
       "       'Negro(a), mulato(a), afrodescendiente, afrocolombiano(a), Visual',\n",
       "       'Negro(a), mulato(a), afrodescendiente, afrocolombiano(a)',\n",
       "       'NINGUNA', 'DISCAPACIDAD', 'DISCAPACIDAD INTELECTUAL',\n",
       "       'JUVENTUDES',\n",
       "       'NINGUNA, Negro(a), mulato(a), afrodescendiente, afrocolombiano(a)',\n",
       "       'NINGUNO', 'NINGUNA, INDIGENAS', 'DISCAPACIDAD ',\n",
       "       'DISCAPACIDAD FISICA', 'INTELECTUAL, PSICOSOCIAL, MÚLTIPLE ',\n",
       "       'MIGRANTE', 'VCA'], dtype=object)"
      ]
     },
     "execution_count": 15,
     "metadata": {},
     "output_type": "execute_result"
    }
   ],
   "source": [
    "valid['condiciones_especiales'].unique()"
   ]
  },
  {
   "cell_type": "markdown",
   "metadata": {},
   "source": [
    "# GRUPOS ETNICOS"
   ]
  },
  {
   "cell_type": "code",
   "execution_count": 16,
   "metadata": {},
   "outputs": [],
   "source": [
    "# Ensure conditions are strings and lowercase\n",
    "valid['condiciones_especiales'] = valid['condiciones_especiales'].astype(str).str.lower().fillna('')\n",
    "\n",
    "# Define filters\n",
    "filter_afro = valid['condiciones_especiales'].str.contains('negr|afro|mulat|palen', regex=True)\n",
    "filter_raizal = valid['condiciones_especiales'].str.contains('raiz', regex=True)\n",
    "filter_indig = valid['condiciones_especiales'].str.contains('indí', regex=True)\n",
    "filter_git = valid['condiciones_especiales'].str.contains('git', regex=True)\n",
    "\n",
    "def get_ethnic_groups(row):\n",
    "    groups = []\n",
    "    if filter_afro[row.name]: groups.append(\"Afrodescendiente\")\n",
    "    if filter_raizal[row.name]: groups.append(\"Raizal y/o Isleño\")\n",
    "    if filter_indig[row.name]: groups.append(\"Indígenas\")\n",
    "    if filter_git[row.name]: groups.append(\"Gitano\")\n",
    "    return groups if groups else np.nan  # Use NaN for empty lists\n",
    "\n",
    "# Apply the function\n",
    "valid[\"grupos_etnicos\"] = valid.apply(get_ethnic_groups, axis=1)"
   ]
  },
  {
   "cell_type": "markdown",
   "metadata": {},
   "source": [
    "# VICTIMAS DEL CONFLICTO ARMADO"
   ]
  },
  {
   "cell_type": "code",
   "execution_count": 17,
   "metadata": {},
   "outputs": [],
   "source": [
    "# Poblacion VCA \n",
    "valid['programa_de_gobierno'].astype(str)\n",
    "valid['programa_de_gobierno'] = valid['programa_de_gobierno'].fillna('')\n",
    "\n",
    "valid['vca'] = pd.Series(dtype='object') # Adding a new column\n",
    "\n",
    "filter_vca = (\n",
    "    (valid['programa_de_gobierno'].str.contains('armado', na=False)) |\n",
    "    (valid['condiciones_especiales'].str.contains('vca|v.c.a'))\n",
    ")\n",
    "\n",
    "valid.loc[filter_vca,'vca'] = 'VCA'"
   ]
  },
  {
   "cell_type": "markdown",
   "metadata": {},
   "source": [
    "# PERSONAS EN CONDICION DE DISCAPACIDAD"
   ]
  },
  {
   "cell_type": "code",
   "execution_count": 18,
   "metadata": {},
   "outputs": [],
   "source": [
    "# Initialize the column with NaN directly\n",
    "valid['discapacidad'] = pd.Series([np.nan] * len(valid), dtype='object')\n",
    "\n",
    "# Mapping of patterns to labels\n",
    "discapacidad_patterns = {\n",
    "    r'ognitiv|telect': 'Cognitiva o Intelectual',\n",
    "    r'[ií]sic': 'Física',\n",
    "    r'visual': 'Visual',\n",
    "    r'auditiva': 'Auditiva',\n",
    "    r'múltiple': 'Múltiple',\n",
    "    r'sordoceguera': 'Sordoceguera',\n",
    "    r'psicosocial': 'Psicosocial',\n",
    "    r'capacidad': 'Discapacidad'\n",
    "}\n",
    "\n",
    "# Apply patterns\n",
    "for pattern, label in discapacidad_patterns.items():\n",
    "    mask = valid['condiciones_especiales'].str.contains(pattern, case=False, na=False)\n",
    "    valid.loc[mask, 'discapacidad'] = label"
   ]
  },
  {
   "cell_type": "markdown",
   "metadata": {},
   "source": [
    "# MIGRANTES"
   ]
  },
  {
   "cell_type": "code",
   "execution_count": 19,
   "metadata": {},
   "outputs": [
    {
     "data": {
      "text/plain": [
       "array(['nan', 'ninguna de las anteriores, ningún grupo étnico',\n",
       "       'visual, ningún grupo étnico', 'ninguna de las anteriores',\n",
       "       'ninguna de las anteriores, ningún grupo étnico, ninguna de las anteriores, ningún grupo étnico',\n",
       "       'auditiva, ningún grupo étnico',\n",
       "       'ninguna de las anteriores, ninguna de las anteriores',\n",
       "       'personas en procesos de reintegración, visual, palenquero de san basilio de palenque, vendedores informales',\n",
       "       'ningún grupo étnico, psicosocial (mental)',\n",
       "       'negro(a), mulato(a), afrodescendiente, afrocolombiano(a), auditiva',\n",
       "       'indígenas, trastorno mental, múltiple, vendedores informales',\n",
       "       'negro(a), mulato(a), afrodescendiente, afrocolombiano(a), ninguna de las anteriores',\n",
       "       'indígenas, vendedores informales, ninguna de las anteriores',\n",
       "       'auditiva, ningún grupo étnico, auditiva, ningún grupo étnico',\n",
       "       'vendedores informales, ninguna de las anteriores, ningún grupo étnico',\n",
       "       'visual, vendedores informales, ningún grupo étnico',\n",
       "       'psicosocial (mental)', 'auditiva',\n",
       "       'negro(a), mulato(a), afrodescendiente, afrocolombiano(a), personas en procesos de reintegración, ninguna de las anteriores',\n",
       "       'ningún grupo étnico',\n",
       "       'ningún grupo étnico, ninguna de las anteriores',\n",
       "       'indígenas, estuvo bajo medida de protección del instituto colombiano de bienestar familiar, ninguna de las anteriores',\n",
       "       'vendedores informales, ningún grupo étnico',\n",
       "       'estuvo bajo medida de protección del instituto colombiano de bienestar familiar, ninguna de las anteriores, ningún grupo étnico',\n",
       "       'física  ', 'indígenas, ninguna de las anteriores',\n",
       "       'ninguna de las anteriores, vendedores informales, ningún grupo étnico',\n",
       "       'palenquero de san basilio de palenque, ninguna de las anteriores',\n",
       "       'cognitiva o intelectual, ningún grupo étnico',\n",
       "       'física  , ningún grupo étnico',\n",
       "       'retornado, ninguna de las anteriores, ningún grupo étnico',\n",
       "       'raizal del archipiélago de san andrés, providencia y santa catalina, ninguna de las anteriores',\n",
       "       'gitano(a) o rrom, ninguna de las anteriores',\n",
       "       'personas en procesos de reintegración, ninguna de las anteriores, ningún grupo étnico',\n",
       "       'visual', 'física',\n",
       "       'narp (negro, afrocolombiano, raizal o palenquero)', 'múltiple',\n",
       "       'retornado o migrante', 'multiple', 'psicosocial', 'mch',\n",
       "       'sordoceguera', 'cognitivo', 'mch ',\n",
       "       'negro(a), mulato(a), afrodescendiente, afrocolombiano(a), ninguna de las anteriores, negro(a), mulato(a), afrodescendiente, afrocolombiano(a), ninguna de las anteriores',\n",
       "       'auditiva, auditiva',\n",
       "       'negro(a), mulato(a), afrodescendiente, afrocolombiano(a), afrocolombianos, ninguna de las anteriores, negro(a), mulato(a), afrodescendiente, afrocolombiano(a), afrocolombianos, ninguna de las anteriores, afrocolombianos',\n",
       "       'indígenas',\n",
       "       'ninguna de las anteriores, negro(a), mulato(a), afrodescendiente, afrocolombiano(a)',\n",
       "       'negro(a), mulato(a), afrodescendiente, afrocolombiano(a), vendedores informales, ninguna de las anteriores',\n",
       "       'ningún grupo étnico, ninguna de las anteriores, vendedores informales',\n",
       "       'auditiva, raizal del archipiélago de san andrés, providencia y santa catalina',\n",
       "       'palenquero de san basilio de palenque',\n",
       "       'indígenas, retornado o migrante', 'física, retornado o migrante',\n",
       "       'personas en procesos de reintegración, ningún grupo étnico, ninguna de las anteriores',\n",
       "       'cognitiva o intelectual',\n",
       "       'física  , vendedores informales, ningún grupo étnico',\n",
       "       'indígenas, visual',\n",
       "       'negro(a), mulato(a), afrodescendiente, afrocolombiano(a), visual',\n",
       "       'negro(a), mulato(a), afrodescendiente, afrocolombiano(a)',\n",
       "       'ninguna', 'discapacidad', 'discapacidad intelectual',\n",
       "       'juventudes',\n",
       "       'ninguna, negro(a), mulato(a), afrodescendiente, afrocolombiano(a)',\n",
       "       'ninguno', 'ninguna, indigenas', 'discapacidad ',\n",
       "       'discapacidad fisica', 'intelectual, psicosocial, múltiple ',\n",
       "       'migrante', 'vca'], dtype=object)"
      ]
     },
     "execution_count": 19,
     "metadata": {},
     "output_type": "execute_result"
    }
   ],
   "source": [
    "valid.condiciones_especiales.unique()"
   ]
  },
  {
   "cell_type": "code",
   "execution_count": 20,
   "metadata": {},
   "outputs": [],
   "source": [
    "# Migrant and internally displaced people\n",
    "valid['migrante'] = \"\"\n",
    "\n",
    "# Filters applied\n",
    "filter_mig = (\n",
    "    (valid['condiciones_especiales'].str.contains('migr|retor')) |\n",
    "    (valid['tipo_documento'].str.contains('acional|ermiso|tranje'))\n",
    ")\n",
    "\n",
    "valid.loc[filter_mig,\"migrante\"] = \"Migrante o Retornado\"\n",
    "\n",
    "# Replace empty strings with NaN\n",
    "valid['migrante'] = valid['migrante'].replace(\"\", np.nan)"
   ]
  },
  {
   "cell_type": "code",
   "execution_count": 21,
   "metadata": {},
   "outputs": [
    {
     "data": {
      "text/plain": [
       "tipo_documento\n",
       "Cédula de Ciudadanía                    2039\n",
       "Documento Nacional de Identificación      85\n",
       "Tarjeta de Identidad                      23\n",
       "Permiso de Proteccion Temporal - PPT      12\n",
       "Cédula de extranjeria                      1\n",
       "Name: count, dtype: int64"
      ]
     },
     "execution_count": 21,
     "metadata": {},
     "output_type": "execute_result"
    }
   ],
   "source": [
    "valid['tipo_documento'].value_counts()"
   ]
  },
  {
   "cell_type": "markdown",
   "metadata": {},
   "source": [
    "# VÍCTIMA DE VIOLENCIA"
   ]
  },
  {
   "cell_type": "code",
   "execution_count": 22,
   "metadata": {},
   "outputs": [
    {
     "name": "stderr",
     "output_type": "stream",
     "text": [
      "C:\\Users\\jober\\AppData\\Local\\Temp\\ipykernel_15872\\2587990764.py:13: FutureWarning: Downcasting behavior in `replace` is deprecated and will be removed in a future version. To retain the old behavior, explicitly call `result.infer_objects(copy=False)`. To opt-in to the future behavior, set `pd.set_option('future.no_silent_downcasting', True)`\n",
      "  valid['vvg'] = valid['vvg'].replace(\"\",  np.nan)\n"
     ]
    }
   ],
   "source": [
    "# Population VVG\n",
    "valid['vvg'] = \"\"\n",
    "\n",
    "# Filters applied\n",
    "filter_vvg = (\n",
    "    (valid['condiciones_especiales'].str.contains('viole')) |\n",
    "    (valid['condiciones_especiales'].str.contains('vvg'))     \n",
    ")\n",
    "\n",
    "valid.loc[filter_vvg,\"vvg\"] = \"vvg\"\n",
    "\n",
    "# Replace empty strings with NaN\n",
    "valid['vvg'] = valid['vvg'].replace(\"\",  np.nan)"
   ]
  },
  {
   "cell_type": "markdown",
   "metadata": {},
   "source": [
    "# REINSERTADOS"
   ]
  },
  {
   "cell_type": "code",
   "execution_count": 23,
   "metadata": {},
   "outputs": [],
   "source": [
    "# Reincorporados\n",
    "valid['reincorporados'] = \"\"\n",
    "\n",
    "# Filters applied\n",
    "filter_rei = (\n",
    "    (valid['condiciones_especiales'].str.contains('rein'))\n",
    ")\n",
    "\n",
    "valid.loc[filter_rei,\"reincorporados\"] = \"reincorporados\"\n",
    "\n",
    "# Replace empty strings with NaN\n",
    "valid['reincorporados'] = valid['reincorporados'].replace(\"\", np.nan)"
   ]
  },
  {
   "cell_type": "code",
   "execution_count": 24,
   "metadata": {},
   "outputs": [
    {
     "name": "stdout",
     "output_type": "stream",
     "text": [
      "[<class 'pandas._libs.missing.NAType'> <class 'str'>]\n"
     ]
    }
   ],
   "source": [
    "print(valid['%_hoja_vida'].apply(type).unique())"
   ]
  },
  {
   "cell_type": "markdown",
   "metadata": {},
   "source": [
    "## Exporting the data to parquet"
   ]
  },
  {
   "cell_type": "code",
   "execution_count": 25,
   "metadata": {},
   "outputs": [],
   "source": [
    "valid.to_parquet(\"registrados_2025_jan+feb.parquet\", engine=\"pyarrow\", index=False)\n",
    "# valid.to_parquet(\"registrados_2024.parquet\", engine=\"pyarrow\", index=False)"
   ]
  },
  {
   "cell_type": "code",
   "execution_count": 26,
   "metadata": {},
   "outputs": [],
   "source": [
    "import matplotlib.pyplot as plt"
   ]
  },
  {
   "cell_type": "code",
   "execution_count": 27,
   "metadata": {},
   "outputs": [
    {
     "data": {
      "text/plain": [
       "fecha_accion\n",
       "2013-10-10    1\n",
       "2013-11-08    1\n",
       "2013-12-03    1\n",
       "2013-12-05    1\n",
       "2014-01-09    1\n",
       "             ..\n",
       "2024-07-18    1\n",
       "2024-08-07    1\n",
       "2024-08-14    1\n",
       "2024-12-03    1\n",
       "2025-01-01    5\n",
       "Name: count, Length: 127, dtype: int64"
      ]
     },
     "execution_count": 27,
     "metadata": {},
     "output_type": "execute_result"
    }
   ],
   "source": [
    "# Count occurrences per date\n",
    "reg_2025 = valid[valid[\"fecha_accion\"]<= '2025-01-01' ]\n",
    "revisar = reg_2025.index\n",
    "reg_2025[\"fecha_accion\"].value_counts().sort_index()"
   ]
  },
  {
   "cell_type": "code",
   "execution_count": 28,
   "metadata": {},
   "outputs": [],
   "source": [
    "# reg_2025[reg_2025[\"fecha_accion\"]=='2025-05-02']"
   ]
  },
  {
   "cell_type": "code",
   "execution_count": 29,
   "metadata": {},
   "outputs": [
    {
     "data": {
      "image/png": "[encoded data removed]",
      "text/plain": [
       "<Figure size 1000x500 with 1 Axes>"
      ]
     },
     "metadata": {},
     "output_type": "display_data"
    }
   ],
   "source": [
    "date_counts = reg_2025[\"fecha_accion\"].value_counts().sort_index()\n",
    "\n",
    "# Plot the data\n",
    "plt.figure(figsize=(10, 5))\n",
    "plt.bar(date_counts.index, date_counts.values, color=\"skyblue\")\n",
    "plt.xlabel(\"Date\")\n",
    "plt.ylabel(\"Count\")\n",
    "plt.title(\"Number of Items per Day\")\n",
    "plt.xticks(rotation=45)  # Rotate x-axis labels for better readability\n",
    "plt.grid(axis=\"y\", linestyle=\"--\", alpha=0.7)\n",
    "\n",
    "plt.show()"
   ]
  },
  {
   "cell_type": "code",
   "execution_count": 30,
   "metadata": {},
   "outputs": [
    {
     "name": "stdout",
     "output_type": "stream",
     "text": [
      "El número de HV de hombres autoregistradas durante el mes 3 es: 141\n",
      "El número de HV de mujeres autoregistradas durante el mes 3 es: 173\n",
      "\n",
      "El número de HV autoregistradas para PCD durante el mes 3 es: 4\n",
      "El número de HV autoregistradas para VCA durante el mes 3 es: 14\n",
      "El número de HV autoregistradas para VVG durante el mes 3 es: 0\n",
      "El número de HV autoregistradas para migrantes durante el mes 3 es: 8\n",
      "El número de HV autoregistradas para grupos étnicos durante el mes 3 es: 14\n",
      "El número de HV autoregistradas para personas en reincorporacion durante el mes 3 es: 6\n",
      "\n",
      "El número de HV con autoregistro nuevo para adultos mayores durante el mes 3 es: 1\n",
      "El número de HV con autoregistro nuevo para adultos durante el mes 3 es: 105\n",
      "El número de HV con autoregistro nuevo para jovenes durante el mes 3 es: 208\n"
     ]
    }
   ],
   "source": [
    "# Hojas de Vida autoregistro\n",
    "mes = 3\n",
    "año = 2025\n",
    "fr_autoregistro = (pd.to_datetime(valid['fecha_accion']).dt.month == mes) & (valid['canal_de_registro'] == 'Autoregistro') & (valid['tipo_registro'] == 'Registro_nuevo') & (pd.to_datetime(valid['fecha_accion']).dt.year == año)\n",
    "\n",
    "print(f'El número de HV de hombres autoregistradas durante el mes {mes} es: {valid[fr_autoregistro & (valid['género']=='M')]['género'].count()}')\n",
    "print(f'El número de HV de mujeres autoregistradas durante el mes {mes} es: {valid[fr_autoregistro & (valid['género']=='F')]['género'].count()}')\n",
    "print()\n",
    "\n",
    "print(f'El número de HV autoregistradas para PCD durante el mes {mes} es: {valid[fr_autoregistro & (valid['discapacidad'])]['discapacidad'].count()}')\n",
    "print(f'El número de HV autoregistradas para VCA durante el mes {mes} es: {valid[fr_autoregistro]['vca'].count()}')\n",
    "print(f'El número de HV autoregistradas para VVG durante el mes {mes} es: {valid[fr_autoregistro]['vvg'].count()}')\n",
    "print(f'El número de HV autoregistradas para migrantes durante el mes {mes} es: {valid[fr_autoregistro]['migrante'].count()}')\n",
    "print(f'El número de HV autoregistradas para grupos étnicos durante el mes {mes} es: {valid[fr_autoregistro]['grupos_etnicos'].count()}')\n",
    "print(f'El número de HV autoregistradas para personas en reincorporacion durante el mes {mes} es: {valid[fr_autoregistro]['reincorporados'].count()}')\n",
    "print()\n",
    "\n",
    "print(f'El número de HV con autoregistro nuevo para adultos mayores durante el mes {mes} es: {valid[fr_autoregistro & (valid['edad'] >= 60)]['género'].count()}')\n",
    "print(f'El número de HV con autoregistro nuevo para adultos durante el mes {mes} es: {valid[fr_autoregistro & (valid['edad'] >= 29) & (valid['edad'] < 60)]['género'].count()}')\n",
    "print(f'El número de HV con autoregistro nuevo para jovenes durante el mes {mes} es: {valid[fr_autoregistro & (valid['edad'] <= 28)]['género'].count()}')"
   ]
  },
  {
   "cell_type": "code",
   "execution_count": 31,
   "metadata": {},
   "outputs": [
    {
     "name": "stdout",
     "output_type": "stream",
     "text": [
      "El número de HV de hombres con registro nuevo durante el mes 3 es: 22\n",
      "El número de HV de mujeres con registro nuevo durante el mes 3 es: 55\n",
      "\n",
      "El número de HV para PCD con registro nuevo durante el mes 3 es: 3\n",
      "El número de HV para victimas con registro nuevo durante el mes 3 es: 2\n",
      "El número de HV para Víctimas de Violencia con registro nuevo durante el mes 3 es: 0\n",
      "El número de HV para migrantes con registro nuevo durante el mes 3 es: 3\n",
      "El número de HV para grupos étnicos con registro nuevo durante el mes 3 es: 0\n",
      "El número de HV para personas en reincorporacion con registro nuevo durante el mes 3 es: 0\n",
      "\n",
      "El número de HV con registro nuevo para adultos mayores durante el mes 3 es: 9\n",
      "El número de HV con registro nuevo para adultos durante el mes 3 es: 34\n",
      "El número de HV con registro nuevo para jovenes durante el mes 3 es: 34\n"
     ]
    }
   ],
   "source": [
    "# Hojas de Vida de registros nuevos\n",
    "mes = 3\n",
    "año = 2025\n",
    "fr_nuevo = (pd.to_datetime(valid['fecha_accion']).dt.month == mes) & (valid['canal_de_registro'] == 'Agencia') & (valid['tipo_registro'] == 'Registro_nuevo') & (pd.to_datetime(valid['fecha_accion']).dt.year == año)\n",
    "\n",
    "print(f'El número de HV de hombres con registro nuevo durante el mes {mes} es: {valid[fr_nuevo & (valid['género']=='M')]['género'].count()}')\n",
    "print(f'El número de HV de mujeres con registro nuevo durante el mes {mes} es: {valid[fr_nuevo & (valid['género']=='F')]['género'].count()}')\n",
    "print()\n",
    "\n",
    "print(f'El número de HV para PCD con registro nuevo durante el mes {mes} es: {valid[fr_nuevo & (valid['discapacidad'])]['discapacidad'].count()}')\n",
    "print(f'El número de HV para victimas con registro nuevo durante el mes {mes} es: {valid[fr_nuevo]['vca'].count()}')\n",
    "print(f'El número de HV para Víctimas de Violencia con registro nuevo durante el mes {mes} es: {valid[fr_nuevo]['vvg'].count()}')\n",
    "print(f'El número de HV para migrantes con registro nuevo durante el mes {mes} es: {valid[fr_nuevo]['migrante'].count()}')\n",
    "print(f'El número de HV para grupos étnicos con registro nuevo durante el mes {mes} es: {valid[fr_nuevo]['grupos_etnicos'].count()}')\n",
    "print(f'El número de HV para personas en reincorporacion con registro nuevo durante el mes {mes} es: {valid[fr_nuevo]['reincorporados'].count()}')\n",
    "print()\n",
    "\n",
    "print(f'El número de HV con registro nuevo para adultos mayores durante el mes {mes} es: {valid[fr_nuevo & (valid['edad'] >= 60)]['género'].count()}')\n",
    "print(f'El número de HV con registro nuevo para adultos durante el mes {mes} es: {valid[fr_nuevo & (valid['edad'] >= 29) & (valid['edad'] < 60)]['género'].count()}')\n",
    "print(f'El número de HV con registro nuevo para jovenes durante el mes {mes} es: {valid[fr_nuevo & (valid['edad'] <= 28)]['género'].count()}')"
   ]
  },
  {
   "cell_type": "code",
   "execution_count": 32,
   "metadata": {},
   "outputs": [
    {
     "name": "stdout",
     "output_type": "stream",
     "text": [
      "El número de HV de hombres actualizadas durante el mes 3 es: 127\n",
      "El número de HV de mujeres actualizadas durante el mes 3 es: 111\n",
      "\n",
      "El número de HV actualizadas para PCD durante el mes 3 es: 8\n",
      "El número de HV actualizadas para VCA durante el mes 3 es: 1\n",
      "El número de HV actualizadas para VVG durante el mes 3 es: 0\n",
      "El número de HV actualizadas para migrantes durante el mes 3 es: 9\n",
      "El número de HV actualizadas para grupos étnicos durante el mes 3 es: 1\n",
      "El número de HV actualizadas para personas en reincorporacion durante el mes 3 es: 0\n",
      "\n",
      "El número de HV actualizadas para adultos mayores durante el mes 3 es: 7\n",
      "El número de HV actualizadas para adultos durante el mes 3 es: 113\n",
      "El número de HV actualizadas para jovenes durante el mes 3 es: 119\n"
     ]
    }
   ],
   "source": [
    "# Hojas de Vida actualizadas\n",
    "mes = 3\n",
    "año = 2025\n",
    "fr_actualizado = (pd.to_datetime(valid['fecha_accion']).dt.month == mes) & (valid['canal_de_registro'] == 'Agencia') & (valid['tipo_registro'] == 'Actualizacion') & (pd.to_datetime(valid['fecha_accion']).dt.year == año)\n",
    "\n",
    "print(f'El número de HV de hombres actualizadas durante el mes {mes} es: {valid[fr_actualizado & (valid['género']=='M')]['género'].count()}')\n",
    "print(f'El número de HV de mujeres actualizadas durante el mes {mes} es: {valid[fr_actualizado & (valid['género']=='F')]['género'].count()}')\n",
    "print()\n",
    "\n",
    "print(f'El número de HV actualizadas para PCD durante el mes {mes} es: {valid[fr_actualizado & (valid['discapacidad'])]['discapacidad'].count()}')\n",
    "print(f'El número de HV actualizadas para VCA durante el mes {mes} es: {valid[fr_actualizado]['vca'].count()}')\n",
    "print(f'El número de HV actualizadas para VVG durante el mes {mes} es: {valid[fr_actualizado]['vvg'].count()}')\n",
    "print(f'El número de HV actualizadas para migrantes durante el mes {mes} es: {valid[fr_actualizado]['migrante'].count()}')\n",
    "print(f'El número de HV actualizadas para grupos étnicos durante el mes {mes} es: {valid[fr_actualizado]['grupos_etnicos'].count()}')\n",
    "print(f'El número de HV actualizadas para personas en reincorporacion durante el mes {mes} es: {valid[fr_actualizado]['reincorporados'].count()}')\n",
    "print()\n",
    "\n",
    "print(f'El número de HV actualizadas para adultos mayores durante el mes {mes} es: {valid[fr_actualizado & (valid['edad'] >= 60)]['género'].count()}')\n",
    "print(f'El número de HV actualizadas para adultos durante el mes {mes} es: {valid[fr_actualizado & (valid['edad'] >= 29) & (valid['edad'] < 60)]['género'].count()}')\n",
    "print(f'El número de HV actualizadas para jovenes durante el mes {mes} es: {valid[fr_actualizado & (valid['edad'] <= 28)]['género'].count()}')"
   ]
  },
  {
   "cell_type": "code",
   "execution_count": null,
   "metadata": {},
   "outputs": [
    {
     "data": {
      "text/plain": [
       "discapacidad\n",
       "Auditiva                   58\n",
       "Física                     34\n",
       "Visual                     14\n",
       "Psicosocial                 8\n",
       "Discapacidad                5\n",
       "Múltiple                    4\n",
       "Cognitiva o Intelectual     4\n",
       "Sordoceguera                1\n",
       "Name: count, dtype: int64"
      ]
     },
     "execution_count": 33,
     "metadata": {},
     "output_type": "execute_result"
    }
   ],
   "source": [
    "# valid['discapacidad'].value_counts()"
   ]
  }
 ],
 "metadata": {
  "kernelspec": {
   "display_name": "base",
   "language": "python",
   "name": "python3"
  },
  "language_info": {
   "codemirror_mode": {
    "name": "ipython",
    "version": 3
   },
   "file_extension": ".py",
   "mimetype": "text/x-python",
   "name": "python",
   "nbconvert_exporter": "python",
   "pygments_lexer": "ipython3",
   "version": "3.12.7"
  }
 },
 "nbformat": 4,
 "nbformat_minor": 2
}
